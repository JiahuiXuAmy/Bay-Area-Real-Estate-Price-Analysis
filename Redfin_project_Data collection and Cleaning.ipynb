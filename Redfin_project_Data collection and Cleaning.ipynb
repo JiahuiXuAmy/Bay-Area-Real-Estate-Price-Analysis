{
 "cells": [
  {
   "cell_type": "code",
   "execution_count": 1,
   "metadata": {
    "ExecuteTime": {
     "end_time": "2023-04-28T03:44:57.305155Z",
     "start_time": "2023-04-28T03:44:55.937791Z"
    }
   },
   "outputs": [],
   "source": [
    "from bs4 import BeautifulSoup\n",
    "import requests\n",
    "import pandas as pd \n",
    "import urllib.parse \n",
    "import warnings\n",
    "import re\n",
    "warnings.filterwarnings(\"ignore\")\n",
    "headers = ({'User-Agent': 'Mozilla/5.0 (Windows NT 10.0; Win64; x64) AppleWebKit/537.36 (KHTML, like Gecko) Chrome/96.0.4664.110 Safari/537.36 Edg/96.0.1054.62'})"
   ]
  },
  {
   "cell_type": "markdown",
   "metadata": {
    "heading_collapsed": true
   },
   "source": [
    "# Part 1: Web Scraping "
   ]
  },
  {
   "cell_type": "markdown",
   "metadata": {
    "hidden": true
   },
   "source": [
    "San Francisco and San Jose"
   ]
  },
  {
   "cell_type": "code",
   "execution_count": 2,
   "metadata": {
    "ExecuteTime": {
     "end_time": "2023-04-28T03:45:29.752870Z",
     "start_time": "2023-04-28T03:45:02.525344Z"
    },
    "hidden": true
   },
   "outputs": [],
   "source": [
    "\n",
    "address_list = []\n",
    "bedroom_list = []\n",
    "price_list = []\n",
    "bathroom_list=[]\n",
    "sqft_list=[]\n",
    "\n",
    "# houses in San-Francisco\n",
    "for i in range (1,9):\n",
    "\n",
    "    website = 'https://www.redfin.com/city/17151/CA/San-Francisco/page-' + str(i)\n",
    "\n",
    "    response = requests.get(website, headers=headers)\n",
    "    soup = BeautifulSoup(response.content, 'html.parser')\n",
    "  \n",
    "    \n",
    "    # Scrape addresses\n",
    "    address_elements = soup.find_all('span', {'data-rf-test-id': 'abp-streetLine'})\n",
    "    address_list += [i.text for i in address_elements]\n",
    "    \n",
    "    # Scrape prices\n",
    "    price_elements = soup.find_all('span', {\"data-rf-test-name\":\"homecard-price\"})\n",
    "    price_list += [i.text for i in price_elements]\n",
    "    \n",
    "    # Scrape bedroom \n",
    "    bedroom_elements = soup.find_all('div', class_='HomeStatsV2')\n",
    "    bedrooms = [stat.text for element in bedroom_elements for stat in element.find_all('div', class_='stats') if 'Bed' in stat.text]\n",
    "    bedroom_list.extend(bedrooms)\n",
    "    \n",
    "    # Scrape bathroom \n",
    "    bathroom_elements = soup.find_all('div', class_='HomeStatsV2')\n",
    "    bathroom_list += [stat.text for s in bathroom_elements for stat in s.find_all('div', class_='stats') if 'Bath' in stat.text]\n",
    "\n",
    "     # Scrape Sq.ft\n",
    "        \n",
    "    stats = soup.find_all('div', class_='HomeStatsV2')\n",
    "    for s in stats:\n",
    "        for stat in s.find_all('div', class_='stats'):\n",
    "            sqft_text = stat.text\n",
    "            if 'Sq. Ft' in sqft_text or 'Acre (Lot)' in sqft_text:\n",
    "                sqft_value = sqft_text\n",
    "                sqft_list.append(sqft_value)\n",
    "\n",
    "# houses in San Jose\n",
    "for i in range (1,9):\n",
    "\n",
    "  \n",
    "    website = 'https://www.redfin.com/city/17420/CA/San-Jose/page-' + str(i)\n",
    "\n",
    "    response = requests.get(website, headers=headers)\n",
    "    soup = BeautifulSoup(response.content, 'html.parser')\n",
    "  \n",
    "    \n",
    "    # Scrape addresses\n",
    "    address_elements = soup.find_all('span', {'data-rf-test-id': 'abp-streetLine'})\n",
    "    address_list += [i.text for i in address_elements]\n",
    "    \n",
    "    # Scrape prices\n",
    "    price_elements = soup.find_all('span', {\"data-rf-test-name\":\"homecard-price\"})\n",
    "    price_list += [i.text for i in price_elements]\n",
    "    \n",
    "    # Scrape bedroom \n",
    "    bedroom_elements = soup.find_all('div', class_='HomeStatsV2')\n",
    "    bedrooms = [stat.text for element in bedroom_elements for stat in element.find_all('div', class_='stats') if 'Bed' in stat.text]\n",
    "    bedroom_list.extend(bedrooms)\n",
    "    \n",
    "    # Scrape bathroom \n",
    "    bathroom_elements = soup.find_all('div', class_='HomeStatsV2')\n",
    "    bathroom_list += [stat.text for s in bathroom_elements for stat in s.find_all('div', class_='stats') if 'Bath' in stat.text]\n",
    "\n",
    "     # Scrape Sq.ft\n",
    "\n",
    "    stats = soup.find_all('div', class_='HomeStatsV2')\n",
    "    for s in stats:\n",
    "        for stat in s.find_all('div', class_='stats'):\n",
    "            sqft_text = stat.text\n",
    "            if 'Sq. Ft' in sqft_text or 'Acre (Lot)' in sqft_text:\n",
    "                sqft_value = sqft_text\n",
    "                sqft_list.append(sqft_value)\n",
    "\n"
   ]
  },
  {
   "cell_type": "markdown",
   "metadata": {
    "ExecuteTime": {
     "end_time": "2023-04-26T01:29:00.231503Z",
     "start_time": "2023-04-26T01:29:00.210735Z"
    },
    "hidden": true
   },
   "source": [
    "Hayward and San Mateo"
   ]
  },
  {
   "cell_type": "code",
   "execution_count": 17,
   "metadata": {
    "ExecuteTime": {
     "end_time": "2023-04-27T04:33:35.924581Z",
     "start_time": "2023-04-27T04:33:26.619963Z"
    },
    "hidden": true
   },
   "outputs": [],
   "source": [
    "# houses in Hayward\n",
    "for i in range (1,3):\n",
    "\n",
    "    website = 'https://www.redfin.com/city/8439/CA/Hayward/page' + str(i)\n",
    "\n",
    "    response = requests.get(website, headers=headers)\n",
    "    soup = BeautifulSoup(response.content, 'html.parser')\n",
    "  \n",
    "    \n",
    "    # Scrape addresses\n",
    "    address_elements = soup.find_all('span', {'data-rf-test-id': 'abp-streetLine'})\n",
    "    address_list += [i.text for i in address_elements]\n",
    "    \n",
    "    # Scrape prices\n",
    "    price_elements = soup.find_all('span', {\"data-rf-test-name\":\"homecard-price\"})\n",
    "    price_list += [i.text for i in price_elements]\n",
    "    \n",
    "    # Scrape bedroom \n",
    "    bedroom_elements = soup.find_all('div', class_='HomeStatsV2')\n",
    "    bedrooms = [stat.text for element in bedroom_elements for stat in element.find_all('div', class_='stats') if 'Bed' in stat.text]\n",
    "    bedroom_list.extend(bedrooms)\n",
    "    \n",
    "    # Scrape bathroom \n",
    "    bathroom_elements = soup.find_all('div', class_='HomeStatsV2')\n",
    "    bathroom_list += [stat.text for s in bathroom_elements for stat in s.find_all('div', class_='stats') if 'Bath' in stat.text]\n",
    "\n",
    "     # Scrape Sq.ft\n",
    "\n",
    "    stats = soup.find_all('div', class_='HomeStatsV2')\n",
    "    for s in stats:\n",
    "        for stat in s.find_all('div', class_='stats'):\n",
    "            sqft_text = stat.text\n",
    "            if 'Sq. Ft' in sqft_text or 'Acres (Lot)' in sqft_text:\n",
    "                sqft_value = sqft_text\n",
    "                sqft_list.append(sqft_value)\n",
    "    \n",
    "\n",
    "\n",
    "                \n",
    "# houses in San Mateo\n",
    "for i in range (1,3):\n",
    "  \n",
    "    website = 'https://www.redfin.com/city/17490/CA/San-Mateo/page' + str(i)\n",
    "\n",
    "    response = requests.get(website, headers=headers)\n",
    "    soup = BeautifulSoup(response.content, 'html.parser')\n",
    "  \n",
    "    \n",
    "    # Scrape addresses\n",
    "    address_elements = soup.find_all('span', {'data-rf-test-id': 'abp-streetLine'})\n",
    "    address_list += [i.text for i in address_elements]\n",
    "    \n",
    "    # Scrape prices\n",
    "    price_elements = soup.find_all('span', {\"data-rf-test-name\":\"homecard-price\"})\n",
    "    price_list += [i.text for i in price_elements]\n",
    "    \n",
    "    # Scrape bedroom \n",
    "    bedroom_elements = soup.find_all('div', class_='HomeStatsV2')\n",
    "    bedrooms = [stat.text for element in bedroom_elements for stat in element.find_all('div', class_='stats') if 'Bed' in stat.text]\n",
    "    bedroom_list.extend(bedrooms)\n",
    "    \n",
    "    # Scrape bathroom \n",
    "    bathroom_elements = soup.find_all('div', class_='HomeStatsV2')\n",
    "    bathroom_list += [stat.text for s in bathroom_elements for stat in s.find_all('div', class_='stats') if 'Bath' in stat.text]\n",
    "\n",
    "     # Scrape Sq.ft\n",
    "\n",
    "    stats = soup.find_all('div', class_='HomeStatsV2')\n",
    "    for s in stats:\n",
    "        for stat in s.find_all('div', class_='stats'):\n",
    "            sqft_text = stat.text\n",
    "            if 'Sq. Ft' in sqft_text or 'Acre (Lot)' in sqft_text:\n",
    "                sqft_value = sqft_text\n",
    "                sqft_list.append(sqft_value)\n",
    "#     print(len(sqft_list))\n",
    "# print(len(address_list))\n",
    "# print(len(price_list))\n",
    "# print(len(bedroom_list))\n",
    "# print(len(bathroom_list))\n",
    "# print(len(sqft_list))"
   ]
  },
  {
   "cell_type": "markdown",
   "metadata": {
    "ExecuteTime": {
     "end_time": "2023-04-27T04:35:39.407721Z",
     "start_time": "2023-04-27T04:35:38.824283Z"
    },
    "hidden": true
   },
   "source": [
    "oakland"
   ]
  },
  {
   "cell_type": "code",
   "execution_count": 18,
   "metadata": {
    "ExecuteTime": {
     "end_time": "2023-04-27T04:33:56.608898Z",
     "start_time": "2023-04-27T04:33:43.425885Z"
    },
    "hidden": true
   },
   "outputs": [],
   "source": [
    "#houses in oakland\n",
    "for i in range (1,7):\n",
    "\n",
    "#     print(f'page{i}')\n",
    "    website = 'https://www.redfin.com/city/13654/CA/Oakland/page-' + str(i)\n",
    "\n",
    "    response = requests.get(website, headers=headers)\n",
    "    soup = BeautifulSoup(response.content, 'html.parser')\n",
    "    \n",
    "    # Scrape addresses\n",
    "    address_elements = soup.find_all('span', {'data-rf-test-id': 'abp-streetLine'})\n",
    "    address_list += [i.text for i in address_elements]\n",
    "    \n",
    "    # Scrape prices\n",
    "    price_elements = soup.find_all('span', {\"data-rf-test-name\":\"homecard-price\"})\n",
    "    price_list += [i.text for i in price_elements]\n",
    "    \n",
    "    # Scrape bedroom \n",
    "    bedroom_elements = soup.find_all('div', class_='HomeStatsV2')\n",
    "    bedrooms = [stat.text for element in bedroom_elements for stat in element.find_all('div', class_='stats') if 'Bed' in stat.text]\n",
    "    bedroom_list.extend(bedrooms)\n",
    "    \n",
    "    # Scrape bathroom \n",
    "    bathroom_elements = soup.find_all('div', class_='HomeStatsV2')\n",
    "    bathroom_list += [stat.text for s in bathroom_elements for stat in s.find_all('div', class_='stats') if 'Bath' in stat.text]\n",
    "\n",
    "     # Scrape Sq.ft\n",
    "        \n",
    "    stats = soup.find_all('div', class_='HomeStatsV2')\n",
    "    for s in stats:\n",
    "        for stat in s.find_all('div', class_='stats'):\n",
    "            sqft_text = stat.text\n",
    "            if 'Sq. Ft' in sqft_text or 'Acre (Lot)' in sqft_text:\n",
    "                sqft_value = sqft_text\n",
    "                sqft_list.append(sqft_value)\n",
    "#     print(f'page{i} has {len(sqft_list)}')"
   ]
  },
  {
   "cell_type": "markdown",
   "metadata": {
    "hidden": true
   },
   "source": [
    "Fremont"
   ]
  },
  {
   "cell_type": "code",
   "execution_count": 19,
   "metadata": {
    "ExecuteTime": {
     "end_time": "2023-04-27T04:34:04.913781Z",
     "start_time": "2023-04-27T04:33:59.542884Z"
    },
    "hidden": true
   },
   "outputs": [],
   "source": [
    "#houses in Fremont\n",
    "for i in range (1,4):\n",
    "\n",
    "#     print(f'page{i}')\n",
    "    website = 'https://www.redfin.com/city/6671/CA/Fremont/page-' + str(i)\n",
    "\n",
    "    response = requests.get(website, headers=headers)\n",
    "    soup = BeautifulSoup(response.content, 'html.parser')\n",
    "    \n",
    "    # Scrape addresses\n",
    "    address_elements = soup.find_all('span', {'data-rf-test-id': 'abp-streetLine'})\n",
    "    address_list += [i.text for i in address_elements]\n",
    "    \n",
    "    # Scrape prices\n",
    "    price_elements = soup.find_all('span', {\"data-rf-test-name\":\"homecard-price\"})\n",
    "    price_list += [i.text for i in price_elements]\n",
    "    \n",
    "    # Scrape bedroom \n",
    "    bedroom_elements = soup.find_all('div', class_='HomeStatsV2')\n",
    "    bedrooms = [stat.text for element in bedroom_elements for stat in element.find_all('div', class_='stats') if 'Bed' in stat.text]\n",
    "    bedroom_list.extend(bedrooms)\n",
    "    \n",
    "    # Scrape bathroom \n",
    "    bathroom_elements = soup.find_all('div', class_='HomeStatsV2')\n",
    "    bathroom_list += [stat.text for s in bathroom_elements for stat in s.find_all('div', class_='stats') if 'Bath' in stat.text]\n",
    "\n",
    "     # Scrape Sq.ft\n",
    "        \n",
    "    stats = soup.find_all('div', class_='HomeStatsV2')\n",
    "    for s in stats:\n",
    "        for stat in s.find_all('div', class_='stats'):\n",
    "            sqft_text = stat.text\n",
    "            if 'Sq. Ft' in sqft_text or 'Acre (Lot)' in sqft_text:\n",
    "                sqft_value = sqft_text\n",
    "                sqft_list.append(sqft_value)"
   ]
  },
  {
   "cell_type": "code",
   "execution_count": 20,
   "metadata": {
    "ExecuteTime": {
     "end_time": "2023-04-27T04:34:09.712807Z",
     "start_time": "2023-04-27T04:34:09.681164Z"
    },
    "hidden": true
   },
   "outputs": [
    {
     "data": {
      "text/html": [
       "<div>\n",
       "<style scoped>\n",
       "    .dataframe tbody tr th:only-of-type {\n",
       "        vertical-align: middle;\n",
       "    }\n",
       "\n",
       "    .dataframe tbody tr th {\n",
       "        vertical-align: top;\n",
       "    }\n",
       "\n",
       "    .dataframe thead th {\n",
       "        text-align: right;\n",
       "    }\n",
       "</style>\n",
       "<table border=\"1\" class=\"dataframe\">\n",
       "  <thead>\n",
       "    <tr style=\"text-align: right;\">\n",
       "      <th></th>\n",
       "      <th>address</th>\n",
       "      <th>price</th>\n",
       "      <th>bedroom</th>\n",
       "      <th>bath</th>\n",
       "      <th>Sq.ft</th>\n",
       "    </tr>\n",
       "  </thead>\n",
       "  <tbody>\n",
       "    <tr>\n",
       "      <th>0</th>\n",
       "      <td>1221 Harrison St #20, San Francisco, CA 94110</td>\n",
       "      <td>1,035,000</td>\n",
       "      <td>1</td>\n",
       "      <td>2</td>\n",
       "      <td>1,439</td>\n",
       "    </tr>\n",
       "    <tr>\n",
       "      <th>1</th>\n",
       "      <td>2667 Clay St, San Francisco, CA 94115</td>\n",
       "      <td>6,998,000</td>\n",
       "      <td>4</td>\n",
       "      <td>3.5</td>\n",
       "      <td>3,065</td>\n",
       "    </tr>\n",
       "    <tr>\n",
       "      <th>2</th>\n",
       "      <td>1714 24th Ave, San Francisco, CA 94122</td>\n",
       "      <td>2,099,000</td>\n",
       "      <td>5</td>\n",
       "      <td>3</td>\n",
       "      <td>2,304</td>\n",
       "    </tr>\n",
       "    <tr>\n",
       "      <th>3</th>\n",
       "      <td>1934 - 1936 19th Ave, San Francisco, CA 94116</td>\n",
       "      <td>1,395,000</td>\n",
       "      <td>4</td>\n",
       "      <td>3</td>\n",
       "      <td>2,740</td>\n",
       "    </tr>\n",
       "    <tr>\n",
       "      <th>4</th>\n",
       "      <td>130 Wilson Ave, San Francisco, CA 94112</td>\n",
       "      <td>875,000</td>\n",
       "      <td>4</td>\n",
       "      <td>3</td>\n",
       "      <td>1,400</td>\n",
       "    </tr>\n",
       "    <tr>\n",
       "      <th>...</th>\n",
       "      <td>...</td>\n",
       "      <td>...</td>\n",
       "      <td>...</td>\n",
       "      <td>...</td>\n",
       "      <td>...</td>\n",
       "    </tr>\n",
       "    <tr>\n",
       "      <th>1155</th>\n",
       "      <td>Kempton, Fremont, CA 94538</td>\n",
       "      <td>1,177,995+</td>\n",
       "      <td>3</td>\n",
       "      <td>2</td>\n",
       "      <td>1,866</td>\n",
       "    </tr>\n",
       "    <tr>\n",
       "      <th>1156</th>\n",
       "      <td>Hartwell, Fremont, CA 94538</td>\n",
       "      <td>1,148,995+</td>\n",
       "      <td>3</td>\n",
       "      <td>2</td>\n",
       "      <td>1,771</td>\n",
       "    </tr>\n",
       "    <tr>\n",
       "      <th>1157</th>\n",
       "      <td>Dartmoor, Fremont, CA 94538</td>\n",
       "      <td>1,116,995+</td>\n",
       "      <td>3</td>\n",
       "      <td>2</td>\n",
       "      <td>1,678</td>\n",
       "    </tr>\n",
       "    <tr>\n",
       "      <th>1158</th>\n",
       "      <td>Broadwell, Fremont, CA 94538</td>\n",
       "      <td>1,085,995+</td>\n",
       "      <td>2</td>\n",
       "      <td>2</td>\n",
       "      <td>1,336</td>\n",
       "    </tr>\n",
       "    <tr>\n",
       "      <th>1159</th>\n",
       "      <td>Residence 1A, Fremont, CA 94538</td>\n",
       "      <td>888,880+</td>\n",
       "      <td>2</td>\n",
       "      <td>2</td>\n",
       "      <td>1,279</td>\n",
       "    </tr>\n",
       "  </tbody>\n",
       "</table>\n",
       "<p>1160 rows × 5 columns</p>\n",
       "</div>"
      ],
      "text/plain": [
       "                                            address       price bedroom  bath  \\\n",
       "0     1221 Harrison St #20, San Francisco, CA 94110   1,035,000      1     2    \n",
       "1             2667 Clay St, San Francisco, CA 94115   6,998,000      4   3.5    \n",
       "2            1714 24th Ave, San Francisco, CA 94122   2,099,000      5     3    \n",
       "3     1934 - 1936 19th Ave, San Francisco, CA 94116   1,395,000      4     3    \n",
       "4           130 Wilson Ave, San Francisco, CA 94112     875,000      4     3    \n",
       "...                                             ...         ...     ...   ...   \n",
       "1155                     Kempton, Fremont, CA 94538  1,177,995+      3     2    \n",
       "1156                    Hartwell, Fremont, CA 94538  1,148,995+      3     2    \n",
       "1157                    Dartmoor, Fremont, CA 94538  1,116,995+      3     2    \n",
       "1158                   Broadwell, Fremont, CA 94538  1,085,995+      2     2    \n",
       "1159                Residence 1A, Fremont, CA 94538    888,880+      2     2    \n",
       "\n",
       "      Sq.ft  \n",
       "0     1,439  \n",
       "1     3,065  \n",
       "2     2,304  \n",
       "3     2,740  \n",
       "4     1,400  \n",
       "...     ...  \n",
       "1155  1,866  \n",
       "1156  1,771  \n",
       "1157  1,678  \n",
       "1158  1,336  \n",
       "1159  1,279  \n",
       "\n",
       "[1160 rows x 5 columns]"
      ]
     },
     "execution_count": 20,
     "metadata": {},
     "output_type": "execute_result"
    }
   ],
   "source": [
    "result = []\n",
    "for i in range(len(address_list)):\n",
    "    d = {\n",
    "        'address': address_list[i],\n",
    "        'price': price_list[i].strip('$'),\n",
    "        'bedroom': bedroom_list[i].strip('Beds'),\n",
    "        'bath': bathroom_list[i].strip('Baths'),\n",
    "        'Sq.ft': sqft_list[i].strip('Sq. Ft.'),\n",
    "        # add other keys and values for list4, list5, list6, list7\n",
    "    }\n",
    "    result.append(d)\n",
    "df = pd.DataFrame(result)\n",
    "len(df)\n",
    "df"
   ]
  },
  {
   "cell_type": "code",
   "execution_count": 21,
   "metadata": {
    "ExecuteTime": {
     "end_time": "2023-04-27T04:34:17.954931Z",
     "start_time": "2023-04-27T04:34:17.928641Z"
    },
    "hidden": true
   },
   "outputs": [
    {
     "data": {
      "text/plain": [
       "1059"
      ]
     },
     "execution_count": 21,
     "metadata": {},
     "output_type": "execute_result"
    }
   ],
   "source": [
    "#drop columns without data in bedroom,bath,and Sq.ft \n",
    "\n",
    "df = df[df['bedroom']!='—']\n",
    "df = df[df['bath']!='—']\n",
    "df = df[df['Sq.ft']!='—']\n",
    "len(df)"
   ]
  },
  {
   "cell_type": "code",
   "execution_count": 22,
   "metadata": {
    "ExecuteTime": {
     "end_time": "2023-04-27T04:34:19.777506Z",
     "start_time": "2023-04-27T04:34:19.757765Z"
    },
    "hidden": true
   },
   "outputs": [
    {
     "data": {
      "text/plain": [
       "1059"
      ]
     },
     "execution_count": 22,
     "metadata": {},
     "output_type": "execute_result"
    }
   ],
   "source": [
    "#convert  columns Sq.ft and price into numeric for later caculation \n",
    "df['Sq.ft'] = df['Sq.ft'].str.replace(',', '')\n",
    "df['price'] = df['price'].str.replace(',', '')\n",
    "df['price']=pd.to_numeric(df['price'], errors='coerce')\n",
    "df['Sq.ft']=pd.to_numeric(df['Sq.ft'], errors='coerce')\n",
    "len(df)"
   ]
  },
  {
   "cell_type": "code",
   "execution_count": 23,
   "metadata": {
    "ExecuteTime": {
     "end_time": "2023-04-27T04:34:21.728004Z",
     "start_time": "2023-04-27T04:34:21.687805Z"
    },
    "hidden": true
   },
   "outputs": [
    {
     "data": {
      "text/html": [
       "<div>\n",
       "<style scoped>\n",
       "    .dataframe tbody tr th:only-of-type {\n",
       "        vertical-align: middle;\n",
       "    }\n",
       "\n",
       "    .dataframe tbody tr th {\n",
       "        vertical-align: top;\n",
       "    }\n",
       "\n",
       "    .dataframe thead th {\n",
       "        text-align: right;\n",
       "    }\n",
       "</style>\n",
       "<table border=\"1\" class=\"dataframe\">\n",
       "  <thead>\n",
       "    <tr style=\"text-align: right;\">\n",
       "      <th></th>\n",
       "      <th>address</th>\n",
       "      <th>price</th>\n",
       "      <th>bedroom</th>\n",
       "      <th>bath</th>\n",
       "      <th>Sq.ft</th>\n",
       "      <th>street</th>\n",
       "      <th>city</th>\n",
       "      <th>state</th>\n",
       "      <th>zipcode</th>\n",
       "    </tr>\n",
       "  </thead>\n",
       "  <tbody>\n",
       "    <tr>\n",
       "      <th>0</th>\n",
       "      <td>1221 Harrison St #20, San Francisco, CA 94110</td>\n",
       "      <td>1035000.0</td>\n",
       "      <td>1</td>\n",
       "      <td>2</td>\n",
       "      <td>1439</td>\n",
       "      <td>1221 Harrison St #20</td>\n",
       "      <td>San Francisco</td>\n",
       "      <td>CA</td>\n",
       "      <td>94110</td>\n",
       "    </tr>\n",
       "    <tr>\n",
       "      <th>1</th>\n",
       "      <td>2667 Clay St, San Francisco, CA 94115</td>\n",
       "      <td>6998000.0</td>\n",
       "      <td>4</td>\n",
       "      <td>3.5</td>\n",
       "      <td>3065</td>\n",
       "      <td>2667 Clay St</td>\n",
       "      <td>San Francisco</td>\n",
       "      <td>CA</td>\n",
       "      <td>94115</td>\n",
       "    </tr>\n",
       "    <tr>\n",
       "      <th>2</th>\n",
       "      <td>1714 24th Ave, San Francisco, CA 94122</td>\n",
       "      <td>2099000.0</td>\n",
       "      <td>5</td>\n",
       "      <td>3</td>\n",
       "      <td>2304</td>\n",
       "      <td>1714 24th Ave</td>\n",
       "      <td>San Francisco</td>\n",
       "      <td>CA</td>\n",
       "      <td>94122</td>\n",
       "    </tr>\n",
       "    <tr>\n",
       "      <th>3</th>\n",
       "      <td>1934 - 1936 19th Ave, San Francisco, CA 94116</td>\n",
       "      <td>1395000.0</td>\n",
       "      <td>4</td>\n",
       "      <td>3</td>\n",
       "      <td>2740</td>\n",
       "      <td>1934 - 1936 19th Ave</td>\n",
       "      <td>San Francisco</td>\n",
       "      <td>CA</td>\n",
       "      <td>94116</td>\n",
       "    </tr>\n",
       "    <tr>\n",
       "      <th>4</th>\n",
       "      <td>130 Wilson Ave, San Francisco, CA 94112</td>\n",
       "      <td>875000.0</td>\n",
       "      <td>4</td>\n",
       "      <td>3</td>\n",
       "      <td>1400</td>\n",
       "      <td>130 Wilson Ave</td>\n",
       "      <td>San Francisco</td>\n",
       "      <td>CA</td>\n",
       "      <td>94112</td>\n",
       "    </tr>\n",
       "  </tbody>\n",
       "</table>\n",
       "</div>"
      ],
      "text/plain": [
       "                                         address      price bedroom  bath  \\\n",
       "0  1221 Harrison St #20, San Francisco, CA 94110  1035000.0      1     2    \n",
       "1          2667 Clay St, San Francisco, CA 94115  6998000.0      4   3.5    \n",
       "2         1714 24th Ave, San Francisco, CA 94122  2099000.0      5     3    \n",
       "3  1934 - 1936 19th Ave, San Francisco, CA 94116  1395000.0      4     3    \n",
       "4        130 Wilson Ave, San Francisco, CA 94112   875000.0      4     3    \n",
       "\n",
       "   Sq.ft                street           city state zipcode  \n",
       "0   1439  1221 Harrison St #20  San Francisco    CA   94110  \n",
       "1   3065          2667 Clay St  San Francisco    CA   94115  \n",
       "2   2304         1714 24th Ave  San Francisco    CA   94122  \n",
       "3   2740  1934 - 1936 19th Ave  San Francisco    CA   94116  \n",
       "4   1400        130 Wilson Ave  San Francisco    CA   94112  "
      ]
     },
     "execution_count": 23,
     "metadata": {},
     "output_type": "execute_result"
    }
   ],
   "source": [
    "#split the address into four different parts\n",
    "address_parts = df['address'].str.split(',', expand=True)\n",
    "state_zipcode_parts = address_parts[2].str.strip().str.split(' ', n=1, expand=True)\n",
    "df['street'] = address_parts[0].str.strip()\n",
    "df['city'] = address_parts[1].str.strip()\n",
    "df['state'] = state_zipcode_parts[0].str.strip()\n",
    "df['zipcode'] = state_zipcode_parts[1].str.strip()\n",
    "df.head(5)"
   ]
  },
  {
   "cell_type": "code",
   "execution_count": 24,
   "metadata": {
    "ExecuteTime": {
     "end_time": "2023-04-27T04:34:23.620990Z",
     "start_time": "2023-04-27T04:34:23.594783Z"
    },
    "hidden": true
   },
   "outputs": [
    {
     "data": {
      "text/html": [
       "<div>\n",
       "<style scoped>\n",
       "    .dataframe tbody tr th:only-of-type {\n",
       "        vertical-align: middle;\n",
       "    }\n",
       "\n",
       "    .dataframe tbody tr th {\n",
       "        vertical-align: top;\n",
       "    }\n",
       "\n",
       "    .dataframe thead th {\n",
       "        text-align: right;\n",
       "    }\n",
       "</style>\n",
       "<table border=\"1\" class=\"dataframe\">\n",
       "  <thead>\n",
       "    <tr style=\"text-align: right;\">\n",
       "      <th></th>\n",
       "      <th>price</th>\n",
       "      <th>bedroom</th>\n",
       "      <th>bath</th>\n",
       "      <th>Sq.ft</th>\n",
       "      <th>street</th>\n",
       "      <th>city</th>\n",
       "      <th>state</th>\n",
       "      <th>zipcode</th>\n",
       "    </tr>\n",
       "  </thead>\n",
       "  <tbody>\n",
       "    <tr>\n",
       "      <th>0</th>\n",
       "      <td>1035000.0</td>\n",
       "      <td>1</td>\n",
       "      <td>2</td>\n",
       "      <td>1439</td>\n",
       "      <td>1221 Harrison St #20</td>\n",
       "      <td>San Francisco</td>\n",
       "      <td>CA</td>\n",
       "      <td>94110</td>\n",
       "    </tr>\n",
       "    <tr>\n",
       "      <th>1</th>\n",
       "      <td>6998000.0</td>\n",
       "      <td>4</td>\n",
       "      <td>3.5</td>\n",
       "      <td>3065</td>\n",
       "      <td>2667 Clay St</td>\n",
       "      <td>San Francisco</td>\n",
       "      <td>CA</td>\n",
       "      <td>94115</td>\n",
       "    </tr>\n",
       "    <tr>\n",
       "      <th>2</th>\n",
       "      <td>2099000.0</td>\n",
       "      <td>5</td>\n",
       "      <td>3</td>\n",
       "      <td>2304</td>\n",
       "      <td>1714 24th Ave</td>\n",
       "      <td>San Francisco</td>\n",
       "      <td>CA</td>\n",
       "      <td>94122</td>\n",
       "    </tr>\n",
       "    <tr>\n",
       "      <th>3</th>\n",
       "      <td>1395000.0</td>\n",
       "      <td>4</td>\n",
       "      <td>3</td>\n",
       "      <td>2740</td>\n",
       "      <td>1934 - 1936 19th Ave</td>\n",
       "      <td>San Francisco</td>\n",
       "      <td>CA</td>\n",
       "      <td>94116</td>\n",
       "    </tr>\n",
       "    <tr>\n",
       "      <th>4</th>\n",
       "      <td>875000.0</td>\n",
       "      <td>4</td>\n",
       "      <td>3</td>\n",
       "      <td>1400</td>\n",
       "      <td>130 Wilson Ave</td>\n",
       "      <td>San Francisco</td>\n",
       "      <td>CA</td>\n",
       "      <td>94112</td>\n",
       "    </tr>\n",
       "  </tbody>\n",
       "</table>\n",
       "</div>"
      ],
      "text/plain": [
       "       price bedroom  bath  Sq.ft                street           city state  \\\n",
       "0  1035000.0      1     2    1439  1221 Harrison St #20  San Francisco    CA   \n",
       "1  6998000.0      4   3.5    3065          2667 Clay St  San Francisco    CA   \n",
       "2  2099000.0      5     3    2304         1714 24th Ave  San Francisco    CA   \n",
       "3  1395000.0      4     3    2740  1934 - 1936 19th Ave  San Francisco    CA   \n",
       "4   875000.0      4     3    1400        130 Wilson Ave  San Francisco    CA   \n",
       "\n",
       "  zipcode  \n",
       "0   94110  \n",
       "1   94115  \n",
       "2   94122  \n",
       "3   94116  \n",
       "4   94112  "
      ]
     },
     "execution_count": 24,
     "metadata": {},
     "output_type": "execute_result"
    }
   ],
   "source": [
    "df.drop('address', axis=1, inplace=True)\n",
    "df.head(5)"
   ]
  },
  {
   "cell_type": "code",
   "execution_count": 25,
   "metadata": {
    "ExecuteTime": {
     "end_time": "2023-04-27T04:34:25.513122Z",
     "start_time": "2023-04-27T04:34:25.487949Z"
    },
    "hidden": true
   },
   "outputs": [
    {
     "data": {
      "text/html": [
       "<div>\n",
       "<style scoped>\n",
       "    .dataframe tbody tr th:only-of-type {\n",
       "        vertical-align: middle;\n",
       "    }\n",
       "\n",
       "    .dataframe tbody tr th {\n",
       "        vertical-align: top;\n",
       "    }\n",
       "\n",
       "    .dataframe thead th {\n",
       "        text-align: right;\n",
       "    }\n",
       "</style>\n",
       "<table border=\"1\" class=\"dataframe\">\n",
       "  <thead>\n",
       "    <tr style=\"text-align: right;\">\n",
       "      <th></th>\n",
       "      <th>street</th>\n",
       "      <th>city</th>\n",
       "      <th>state</th>\n",
       "      <th>zipcode</th>\n",
       "      <th>price</th>\n",
       "      <th>bedroom</th>\n",
       "      <th>bath</th>\n",
       "      <th>Sq.ft</th>\n",
       "    </tr>\n",
       "  </thead>\n",
       "  <tbody>\n",
       "    <tr>\n",
       "      <th>0</th>\n",
       "      <td>1221 Harrison St #20</td>\n",
       "      <td>San Francisco</td>\n",
       "      <td>CA</td>\n",
       "      <td>94110</td>\n",
       "      <td>1035000.0</td>\n",
       "      <td>1</td>\n",
       "      <td>2</td>\n",
       "      <td>1439</td>\n",
       "    </tr>\n",
       "    <tr>\n",
       "      <th>1</th>\n",
       "      <td>2667 Clay St</td>\n",
       "      <td>San Francisco</td>\n",
       "      <td>CA</td>\n",
       "      <td>94115</td>\n",
       "      <td>6998000.0</td>\n",
       "      <td>4</td>\n",
       "      <td>3.5</td>\n",
       "      <td>3065</td>\n",
       "    </tr>\n",
       "    <tr>\n",
       "      <th>2</th>\n",
       "      <td>1714 24th Ave</td>\n",
       "      <td>San Francisco</td>\n",
       "      <td>CA</td>\n",
       "      <td>94122</td>\n",
       "      <td>2099000.0</td>\n",
       "      <td>5</td>\n",
       "      <td>3</td>\n",
       "      <td>2304</td>\n",
       "    </tr>\n",
       "    <tr>\n",
       "      <th>3</th>\n",
       "      <td>1934 - 1936 19th Ave</td>\n",
       "      <td>San Francisco</td>\n",
       "      <td>CA</td>\n",
       "      <td>94116</td>\n",
       "      <td>1395000.0</td>\n",
       "      <td>4</td>\n",
       "      <td>3</td>\n",
       "      <td>2740</td>\n",
       "    </tr>\n",
       "    <tr>\n",
       "      <th>4</th>\n",
       "      <td>130 Wilson Ave</td>\n",
       "      <td>San Francisco</td>\n",
       "      <td>CA</td>\n",
       "      <td>94112</td>\n",
       "      <td>875000.0</td>\n",
       "      <td>4</td>\n",
       "      <td>3</td>\n",
       "      <td>1400</td>\n",
       "    </tr>\n",
       "  </tbody>\n",
       "</table>\n",
       "</div>"
      ],
      "text/plain": [
       "                 street           city state zipcode      price bedroom  bath  \\\n",
       "0  1221 Harrison St #20  San Francisco    CA   94110  1035000.0      1     2    \n",
       "1          2667 Clay St  San Francisco    CA   94115  6998000.0      4   3.5    \n",
       "2         1714 24th Ave  San Francisco    CA   94122  2099000.0      5     3    \n",
       "3  1934 - 1936 19th Ave  San Francisco    CA   94116  1395000.0      4     3    \n",
       "4        130 Wilson Ave  San Francisco    CA   94112   875000.0      4     3    \n",
       "\n",
       "   Sq.ft  \n",
       "0   1439  \n",
       "1   3065  \n",
       "2   2304  \n",
       "3   2740  \n",
       "4   1400  "
      ]
     },
     "execution_count": 25,
     "metadata": {},
     "output_type": "execute_result"
    }
   ],
   "source": [
    "df = df.reindex(columns=['street', 'city', 'state', 'zipcode','price', 'bedroom', 'bath', 'Sq.ft'])\n",
    "df.head(5)"
   ]
  },
  {
   "cell_type": "code",
   "execution_count": 26,
   "metadata": {
    "ExecuteTime": {
     "end_time": "2023-04-27T04:34:27.650162Z",
     "start_time": "2023-04-27T04:34:27.627837Z"
    },
    "hidden": true
   },
   "outputs": [
    {
     "data": {
      "text/plain": [
       "1059"
      ]
     },
     "execution_count": 26,
     "metadata": {},
     "output_type": "execute_result"
    }
   ],
   "source": [
    "len(df)"
   ]
  },
  {
   "cell_type": "code",
   "execution_count": 29,
   "metadata": {
    "ExecuteTime": {
     "end_time": "2023-04-27T04:34:39.727182Z",
     "start_time": "2023-04-27T04:34:39.702056Z"
    },
    "hidden": true
   },
   "outputs": [],
   "source": [
    "#convert to csv file\n",
    "df.to_csv('redfinhouse.csv')"
   ]
  },
  {
   "cell_type": "markdown",
   "metadata": {
    "ExecuteTime": {
     "end_time": "2023-04-28T04:01:28.057820Z",
     "start_time": "2023-04-28T04:01:27.988580Z"
    }
   },
   "source": [
    "# The web scraping components were finished by April 26th, resulting in 1059 records. Therefore, we will maintain the current code and proceed to the data cleansing phase.\n"
   ]
  },
  {
   "cell_type": "markdown",
   "metadata": {},
   "source": [
    "# Part 2: Data Processing "
   ]
  },
  {
   "cell_type": "code",
   "execution_count": 41,
   "metadata": {
    "ExecuteTime": {
     "end_time": "2023-04-28T04:56:12.090607Z",
     "start_time": "2023-04-28T04:56:12.009872Z"
    }
   },
   "outputs": [
    {
     "data": {
      "text/html": [
       "<div>\n",
       "<style scoped>\n",
       "    .dataframe tbody tr th:only-of-type {\n",
       "        vertical-align: middle;\n",
       "    }\n",
       "\n",
       "    .dataframe tbody tr th {\n",
       "        vertical-align: top;\n",
       "    }\n",
       "\n",
       "    .dataframe thead th {\n",
       "        text-align: right;\n",
       "    }\n",
       "</style>\n",
       "<table border=\"1\" class=\"dataframe\">\n",
       "  <thead>\n",
       "    <tr style=\"text-align: right;\">\n",
       "      <th></th>\n",
       "      <th>Unnamed: 0</th>\n",
       "      <th>street</th>\n",
       "      <th>city</th>\n",
       "      <th>state</th>\n",
       "      <th>zipcode</th>\n",
       "      <th>price</th>\n",
       "      <th>bedroom</th>\n",
       "      <th>bath</th>\n",
       "      <th>Sq.ft</th>\n",
       "    </tr>\n",
       "  </thead>\n",
       "  <tbody>\n",
       "    <tr>\n",
       "      <th>0</th>\n",
       "      <td>0</td>\n",
       "      <td>1221 Harrison St #20</td>\n",
       "      <td>San Francisco</td>\n",
       "      <td>CA</td>\n",
       "      <td>94110</td>\n",
       "      <td>1035000.0</td>\n",
       "      <td>1</td>\n",
       "      <td>2.0</td>\n",
       "      <td>1439</td>\n",
       "    </tr>\n",
       "    <tr>\n",
       "      <th>1</th>\n",
       "      <td>1</td>\n",
       "      <td>2667 Clay St</td>\n",
       "      <td>San Francisco</td>\n",
       "      <td>CA</td>\n",
       "      <td>94115</td>\n",
       "      <td>6998000.0</td>\n",
       "      <td>4</td>\n",
       "      <td>3.5</td>\n",
       "      <td>3065</td>\n",
       "    </tr>\n",
       "    <tr>\n",
       "      <th>2</th>\n",
       "      <td>2</td>\n",
       "      <td>1714 24th Ave</td>\n",
       "      <td>San Francisco</td>\n",
       "      <td>CA</td>\n",
       "      <td>94122</td>\n",
       "      <td>2099000.0</td>\n",
       "      <td>5</td>\n",
       "      <td>3.0</td>\n",
       "      <td>2304</td>\n",
       "    </tr>\n",
       "    <tr>\n",
       "      <th>3</th>\n",
       "      <td>3</td>\n",
       "      <td>1934 - 1936 19th Ave</td>\n",
       "      <td>San Francisco</td>\n",
       "      <td>CA</td>\n",
       "      <td>94116</td>\n",
       "      <td>1395000.0</td>\n",
       "      <td>4</td>\n",
       "      <td>3.0</td>\n",
       "      <td>2740</td>\n",
       "    </tr>\n",
       "    <tr>\n",
       "      <th>4</th>\n",
       "      <td>4</td>\n",
       "      <td>130 Wilson Ave</td>\n",
       "      <td>San Francisco</td>\n",
       "      <td>CA</td>\n",
       "      <td>94112</td>\n",
       "      <td>875000.0</td>\n",
       "      <td>4</td>\n",
       "      <td>3.0</td>\n",
       "      <td>1400</td>\n",
       "    </tr>\n",
       "  </tbody>\n",
       "</table>\n",
       "</div>"
      ],
      "text/plain": [
       "   Unnamed: 0                street           city state zipcode      price  \\\n",
       "0           0  1221 Harrison St #20  San Francisco    CA   94110  1035000.0   \n",
       "1           1          2667 Clay St  San Francisco    CA   94115  6998000.0   \n",
       "2           2         1714 24th Ave  San Francisco    CA   94122  2099000.0   \n",
       "3           3  1934 - 1936 19th Ave  San Francisco    CA   94116  1395000.0   \n",
       "4           4        130 Wilson Ave  San Francisco    CA   94112   875000.0   \n",
       "\n",
       "   bedroom  bath  Sq.ft  \n",
       "0        1   2.0   1439  \n",
       "1        4   3.5   3065  \n",
       "2        5   3.0   2304  \n",
       "3        4   3.0   2740  \n",
       "4        4   3.0   1400  "
      ]
     },
     "execution_count": 41,
     "metadata": {},
     "output_type": "execute_result"
    }
   ],
   "source": [
    "# Importing required libraries.\n",
    "import pandas as pd\n",
    "import numpy as np\n",
    "import seaborn as sns #visualisation\n",
    "import matplotlib.pyplot as plt #visualisation\n",
    "\n",
    "df = pd.read_csv(\"redfinhouse.csv\")\n",
    "df.head()"
   ]
  },
  {
   "cell_type": "code",
   "execution_count": 42,
   "metadata": {
    "ExecuteTime": {
     "end_time": "2023-04-28T04:56:13.040674Z",
     "start_time": "2023-04-28T04:56:13.020737Z"
    }
   },
   "outputs": [
    {
     "data": {
      "text/plain": [
       "(1059, 9)"
      ]
     },
     "execution_count": 42,
     "metadata": {},
     "output_type": "execute_result"
    }
   ],
   "source": [
    "df.shape"
   ]
  },
  {
   "cell_type": "code",
   "execution_count": 43,
   "metadata": {
    "ExecuteTime": {
     "end_time": "2023-04-28T04:56:13.516244Z",
     "start_time": "2023-04-28T04:56:13.501288Z"
    }
   },
   "outputs": [
    {
     "data": {
      "text/plain": [
       "Index(['Unnamed: 0', 'street', 'city', 'state', 'zipcode', 'price', 'bedroom',\n",
       "       'bath', 'Sq.ft'],\n",
       "      dtype='object')"
      ]
     },
     "execution_count": 43,
     "metadata": {},
     "output_type": "execute_result"
    }
   ],
   "source": [
    "df.columns"
   ]
  },
  {
   "cell_type": "code",
   "execution_count": 44,
   "metadata": {
    "ExecuteTime": {
     "end_time": "2023-04-28T04:56:15.792963Z",
     "start_time": "2023-04-28T04:56:15.767076Z"
    }
   },
   "outputs": [
    {
     "data": {
      "text/html": [
       "<div>\n",
       "<style scoped>\n",
       "    .dataframe tbody tr th:only-of-type {\n",
       "        vertical-align: middle;\n",
       "    }\n",
       "\n",
       "    .dataframe tbody tr th {\n",
       "        vertical-align: top;\n",
       "    }\n",
       "\n",
       "    .dataframe thead th {\n",
       "        text-align: right;\n",
       "    }\n",
       "</style>\n",
       "<table border=\"1\" class=\"dataframe\">\n",
       "  <thead>\n",
       "    <tr style=\"text-align: right;\">\n",
       "      <th></th>\n",
       "      <th>street</th>\n",
       "      <th>city</th>\n",
       "      <th>state</th>\n",
       "      <th>zipcode</th>\n",
       "      <th>price</th>\n",
       "      <th>bedroom</th>\n",
       "      <th>bath</th>\n",
       "      <th>Sq.ft</th>\n",
       "    </tr>\n",
       "  </thead>\n",
       "  <tbody>\n",
       "    <tr>\n",
       "      <th>0</th>\n",
       "      <td>1221 Harrison St #20</td>\n",
       "      <td>San Francisco</td>\n",
       "      <td>CA</td>\n",
       "      <td>94110</td>\n",
       "      <td>1035000.0</td>\n",
       "      <td>1</td>\n",
       "      <td>2.0</td>\n",
       "      <td>1439</td>\n",
       "    </tr>\n",
       "    <tr>\n",
       "      <th>1</th>\n",
       "      <td>2667 Clay St</td>\n",
       "      <td>San Francisco</td>\n",
       "      <td>CA</td>\n",
       "      <td>94115</td>\n",
       "      <td>6998000.0</td>\n",
       "      <td>4</td>\n",
       "      <td>3.5</td>\n",
       "      <td>3065</td>\n",
       "    </tr>\n",
       "    <tr>\n",
       "      <th>2</th>\n",
       "      <td>1714 24th Ave</td>\n",
       "      <td>San Francisco</td>\n",
       "      <td>CA</td>\n",
       "      <td>94122</td>\n",
       "      <td>2099000.0</td>\n",
       "      <td>5</td>\n",
       "      <td>3.0</td>\n",
       "      <td>2304</td>\n",
       "    </tr>\n",
       "    <tr>\n",
       "      <th>3</th>\n",
       "      <td>1934 - 1936 19th Ave</td>\n",
       "      <td>San Francisco</td>\n",
       "      <td>CA</td>\n",
       "      <td>94116</td>\n",
       "      <td>1395000.0</td>\n",
       "      <td>4</td>\n",
       "      <td>3.0</td>\n",
       "      <td>2740</td>\n",
       "    </tr>\n",
       "    <tr>\n",
       "      <th>4</th>\n",
       "      <td>130 Wilson Ave</td>\n",
       "      <td>San Francisco</td>\n",
       "      <td>CA</td>\n",
       "      <td>94112</td>\n",
       "      <td>875000.0</td>\n",
       "      <td>4</td>\n",
       "      <td>3.0</td>\n",
       "      <td>1400</td>\n",
       "    </tr>\n",
       "  </tbody>\n",
       "</table>\n",
       "</div>"
      ],
      "text/plain": [
       "                 street           city state zipcode      price  bedroom  \\\n",
       "0  1221 Harrison St #20  San Francisco    CA   94110  1035000.0        1   \n",
       "1          2667 Clay St  San Francisco    CA   94115  6998000.0        4   \n",
       "2         1714 24th Ave  San Francisco    CA   94122  2099000.0        5   \n",
       "3  1934 - 1936 19th Ave  San Francisco    CA   94116  1395000.0        4   \n",
       "4        130 Wilson Ave  San Francisco    CA   94112   875000.0        4   \n",
       "\n",
       "   bath  Sq.ft  \n",
       "0   2.0   1439  \n",
       "1   3.5   3065  \n",
       "2   3.0   2304  \n",
       "3   3.0   2740  \n",
       "4   3.0   1400  "
      ]
     },
     "execution_count": 44,
     "metadata": {},
     "output_type": "execute_result"
    }
   ],
   "source": [
    "#drop the 1st column\n",
    "df=df.drop(df.columns[0], axis=1)\n",
    "df.head()"
   ]
  },
  {
   "cell_type": "code",
   "execution_count": 45,
   "metadata": {
    "ExecuteTime": {
     "end_time": "2023-04-28T04:56:16.302293Z",
     "start_time": "2023-04-28T04:56:16.285265Z"
    }
   },
   "outputs": [
    {
     "data": {
      "text/plain": [
       "(1059, 8)"
      ]
     },
     "execution_count": 45,
     "metadata": {},
     "output_type": "execute_result"
    }
   ],
   "source": [
    "df.shape"
   ]
  },
  {
   "cell_type": "code",
   "execution_count": 46,
   "metadata": {
    "ExecuteTime": {
     "end_time": "2023-04-28T04:56:16.820342Z",
     "start_time": "2023-04-28T04:56:16.794837Z"
    }
   },
   "outputs": [
    {
     "data": {
      "text/plain": [
       "street      0\n",
       "city        0\n",
       "state       0\n",
       "zipcode     0\n",
       "price      11\n",
       "bedroom     0\n",
       "bath        0\n",
       "Sq.ft       0\n",
       "dtype: int64"
      ]
     },
     "execution_count": 46,
     "metadata": {},
     "output_type": "execute_result"
    }
   ],
   "source": [
    "#find missing data\n",
    "num_missing = df.isna().sum()\n",
    "num_missing[:10]"
   ]
  },
  {
   "cell_type": "code",
   "execution_count": 47,
   "metadata": {
    "ExecuteTime": {
     "end_time": "2023-04-28T04:56:18.540519Z",
     "start_time": "2023-04-28T04:56:18.494424Z"
    }
   },
   "outputs": [
    {
     "data": {
      "text/html": [
       "<div>\n",
       "<style scoped>\n",
       "    .dataframe tbody tr th:only-of-type {\n",
       "        vertical-align: middle;\n",
       "    }\n",
       "\n",
       "    .dataframe tbody tr th {\n",
       "        vertical-align: top;\n",
       "    }\n",
       "\n",
       "    .dataframe thead th {\n",
       "        text-align: right;\n",
       "    }\n",
       "</style>\n",
       "<table border=\"1\" class=\"dataframe\">\n",
       "  <thead>\n",
       "    <tr style=\"text-align: right;\">\n",
       "      <th></th>\n",
       "      <th>street</th>\n",
       "      <th>city</th>\n",
       "      <th>state</th>\n",
       "      <th>zipcode</th>\n",
       "      <th>price</th>\n",
       "      <th>bedroom</th>\n",
       "      <th>bath</th>\n",
       "      <th>Sq.ft</th>\n",
       "    </tr>\n",
       "  </thead>\n",
       "  <tbody>\n",
       "    <tr>\n",
       "      <th>616</th>\n",
       "      <td>17356 Via San Ardo</td>\n",
       "      <td>San Lorenzo</td>\n",
       "      <td>CA</td>\n",
       "      <td>94580</td>\n",
       "      <td>900000.0</td>\n",
       "      <td>3</td>\n",
       "      <td>2.0</td>\n",
       "      <td>1495</td>\n",
       "    </tr>\n",
       "    <tr>\n",
       "      <th>617</th>\n",
       "      <td>784 Blaine Way</td>\n",
       "      <td>Hayward</td>\n",
       "      <td>CA</td>\n",
       "      <td>94544</td>\n",
       "      <td>808000.0</td>\n",
       "      <td>3</td>\n",
       "      <td>2.0</td>\n",
       "      <td>1358</td>\n",
       "    </tr>\n",
       "    <tr>\n",
       "      <th>618</th>\n",
       "      <td>24541 Blossom Acre Way</td>\n",
       "      <td>Hayward</td>\n",
       "      <td>CA</td>\n",
       "      <td>94544</td>\n",
       "      <td>899000.0</td>\n",
       "      <td>4</td>\n",
       "      <td>3.0</td>\n",
       "      <td>1812</td>\n",
       "    </tr>\n",
       "    <tr>\n",
       "      <th>619</th>\n",
       "      <td>21103 Gary Dr Unit 114A</td>\n",
       "      <td>Hayward</td>\n",
       "      <td>CA</td>\n",
       "      <td>94546</td>\n",
       "      <td>599900.0</td>\n",
       "      <td>2</td>\n",
       "      <td>2.0</td>\n",
       "      <td>1100</td>\n",
       "    </tr>\n",
       "    <tr>\n",
       "      <th>620</th>\n",
       "      <td>769 Plantation Ln #15</td>\n",
       "      <td>Hayward</td>\n",
       "      <td>CA</td>\n",
       "      <td>94544</td>\n",
       "      <td>849000.0</td>\n",
       "      <td>3</td>\n",
       "      <td>2.5</td>\n",
       "      <td>1391</td>\n",
       "    </tr>\n",
       "    <tr>\n",
       "      <th>...</th>\n",
       "      <td>...</td>\n",
       "      <td>...</td>\n",
       "      <td>...</td>\n",
       "      <td>...</td>\n",
       "      <td>...</td>\n",
       "      <td>...</td>\n",
       "      <td>...</td>\n",
       "      <td>...</td>\n",
       "    </tr>\n",
       "    <tr>\n",
       "      <th>727</th>\n",
       "      <td>946 Peninsula Ave</td>\n",
       "      <td>San Mateo</td>\n",
       "      <td>CA</td>\n",
       "      <td>94401</td>\n",
       "      <td>825000.0</td>\n",
       "      <td>2</td>\n",
       "      <td>1.5</td>\n",
       "      <td>1152</td>\n",
       "    </tr>\n",
       "    <tr>\n",
       "      <th>728</th>\n",
       "      <td>10 Crystal Springs Rd #2114</td>\n",
       "      <td>San Mateo</td>\n",
       "      <td>CA</td>\n",
       "      <td>94402</td>\n",
       "      <td>1050000.0</td>\n",
       "      <td>2</td>\n",
       "      <td>2.0</td>\n",
       "      <td>1187</td>\n",
       "    </tr>\n",
       "    <tr>\n",
       "      <th>729</th>\n",
       "      <td>1919 Alameda De Las Pulgas #38</td>\n",
       "      <td>San Mateo</td>\n",
       "      <td>CA</td>\n",
       "      <td>94403</td>\n",
       "      <td>888000.0</td>\n",
       "      <td>2</td>\n",
       "      <td>2.0</td>\n",
       "      <td>1024</td>\n",
       "    </tr>\n",
       "    <tr>\n",
       "      <th>730</th>\n",
       "      <td>1537 De Anza Blvd</td>\n",
       "      <td>San Mateo</td>\n",
       "      <td>CA</td>\n",
       "      <td>94403</td>\n",
       "      <td>1798000.0</td>\n",
       "      <td>2</td>\n",
       "      <td>2.5</td>\n",
       "      <td>2100</td>\n",
       "    </tr>\n",
       "    <tr>\n",
       "      <th>731</th>\n",
       "      <td>513 Santa Clara Way</td>\n",
       "      <td>San Mateo</td>\n",
       "      <td>CA</td>\n",
       "      <td>94403</td>\n",
       "      <td>1888888.0</td>\n",
       "      <td>4</td>\n",
       "      <td>2.0</td>\n",
       "      <td>1500</td>\n",
       "    </tr>\n",
       "  </tbody>\n",
       "</table>\n",
       "<p>78 rows × 8 columns</p>\n",
       "</div>"
      ],
      "text/plain": [
       "                             street         city state zipcode      price  \\\n",
       "616              17356 Via San Ardo  San Lorenzo    CA   94580   900000.0   \n",
       "617                  784 Blaine Way      Hayward    CA   94544   808000.0   \n",
       "618          24541 Blossom Acre Way      Hayward    CA   94544   899000.0   \n",
       "619         21103 Gary Dr Unit 114A      Hayward    CA   94546   599900.0   \n",
       "620           769 Plantation Ln #15      Hayward    CA   94544   849000.0   \n",
       "..                              ...          ...   ...     ...        ...   \n",
       "727               946 Peninsula Ave    San Mateo    CA   94401   825000.0   \n",
       "728     10 Crystal Springs Rd #2114    San Mateo    CA   94402  1050000.0   \n",
       "729  1919 Alameda De Las Pulgas #38    San Mateo    CA   94403   888000.0   \n",
       "730               1537 De Anza Blvd    San Mateo    CA   94403  1798000.0   \n",
       "731             513 Santa Clara Way    San Mateo    CA   94403  1888888.0   \n",
       "\n",
       "     bedroom  bath  Sq.ft  \n",
       "616        3   2.0   1495  \n",
       "617        3   2.0   1358  \n",
       "618        4   3.0   1812  \n",
       "619        2   2.0   1100  \n",
       "620        3   2.5   1391  \n",
       "..       ...   ...    ...  \n",
       "727        2   1.5   1152  \n",
       "728        2   2.0   1187  \n",
       "729        2   2.0   1024  \n",
       "730        2   2.5   2100  \n",
       "731        4   2.0   1500  \n",
       "\n",
       "[78 rows x 8 columns]"
      ]
     },
     "execution_count": 47,
     "metadata": {},
     "output_type": "execute_result"
    }
   ],
   "source": [
    "df[df.duplicated()]"
   ]
  },
  {
   "cell_type": "code",
   "execution_count": 48,
   "metadata": {
    "ExecuteTime": {
     "end_time": "2023-04-28T04:56:20.124777Z",
     "start_time": "2023-04-28T04:56:20.107412Z"
    }
   },
   "outputs": [
    {
     "data": {
      "text/plain": [
       "(981, 8)"
      ]
     },
     "execution_count": 48,
     "metadata": {},
     "output_type": "execute_result"
    }
   ],
   "source": [
    "df=df.drop_duplicates()\n",
    "df.shape"
   ]
  },
  {
   "cell_type": "markdown",
   "metadata": {},
   "source": [
    "note that the high value of kurtosis doesn’t guarantee outliers. So we should investigate this column more."
   ]
  },
  {
   "cell_type": "code",
   "execution_count": 49,
   "metadata": {
    "ExecuteTime": {
     "end_time": "2023-04-28T04:56:22.089702Z",
     "start_time": "2023-04-28T04:56:22.061444Z"
    }
   },
   "outputs": [
    {
     "name": "stdout",
     "output_type": "stream",
     "text": [
      "             street     city state zipcode  price  bedroom  bath  Sq.ft\n",
      "1048     Sunderland  Fremont    CA   94538    NaN        4   3.5   2564\n",
      "1049  Latimer Elite  Fremont    CA   94538    NaN        4   3.5   2156\n",
      "1050        Latimer  Fremont    CA   94538    NaN        4   3.5   2112\n",
      "1051     Colchester  Fremont    CA   94538    NaN        3   3.5   1541\n",
      "1052        Brixton  Fremont    CA   94538    NaN        2   2.5   1307\n",
      "1053         Tauton  Fremont    CA   94538    NaN        3   2.0   2106\n",
      "1054        Kempton  Fremont    CA   94538    NaN        3   2.0   1866\n",
      "1055       Hartwell  Fremont    CA   94538    NaN        3   2.0   1771\n",
      "1056       Dartmoor  Fremont    CA   94538    NaN        3   2.0   1678\n",
      "1057      Broadwell  Fremont    CA   94538    NaN        2   2.0   1336\n",
      "1058   Residence 1A  Fremont    CA   94538    NaN        2   2.0   1279\n"
     ]
    }
   ],
   "source": [
    "#find out the na value \n",
    "null_rows = df.isnull().any(axis=1)\n",
    "print(df[null_rows])"
   ]
  },
  {
   "cell_type": "code",
   "execution_count": 50,
   "metadata": {
    "ExecuteTime": {
     "end_time": "2023-04-28T04:56:22.828343Z",
     "start_time": "2023-04-28T04:56:22.815730Z"
    }
   },
   "outputs": [
    {
     "data": {
      "text/plain": [
       "(970, 8)"
      ]
     },
     "execution_count": 50,
     "metadata": {},
     "output_type": "execute_result"
    }
   ],
   "source": [
    "df = df.dropna()\n",
    "df.shape"
   ]
  },
  {
   "cell_type": "code",
   "execution_count": 51,
   "metadata": {
    "ExecuteTime": {
     "end_time": "2023-04-28T04:56:28.620087Z",
     "start_time": "2023-04-28T04:56:28.597639Z"
    }
   },
   "outputs": [
    {
     "data": {
      "text/plain": [
       "price      11.303241\n",
       "bedroom    36.304347\n",
       "bath       42.378168\n",
       "Sq.ft      24.663565\n",
       "dtype: float64"
      ]
     },
     "execution_count": 51,
     "metadata": {},
     "output_type": "execute_result"
    }
   ],
   "source": [
    "#find outliers using kurtosis method\n",
    "df.kurt(numeric_only=True)[:10]"
   ]
  },
  {
   "cell_type": "code",
   "execution_count": 52,
   "metadata": {
    "ExecuteTime": {
     "end_time": "2023-04-28T04:56:30.055069Z",
     "start_time": "2023-04-28T04:56:30.002960Z"
    }
   },
   "outputs": [
    {
     "data": {
      "text/html": [
       "<div>\n",
       "<style scoped>\n",
       "    .dataframe tbody tr th:only-of-type {\n",
       "        vertical-align: middle;\n",
       "    }\n",
       "\n",
       "    .dataframe tbody tr th {\n",
       "        vertical-align: top;\n",
       "    }\n",
       "\n",
       "    .dataframe thead th {\n",
       "        text-align: right;\n",
       "    }\n",
       "</style>\n",
       "<table border=\"1\" class=\"dataframe\">\n",
       "  <thead>\n",
       "    <tr style=\"text-align: right;\">\n",
       "      <th></th>\n",
       "      <th>street</th>\n",
       "      <th>city</th>\n",
       "      <th>state</th>\n",
       "      <th>zipcode</th>\n",
       "      <th>price</th>\n",
       "      <th>bedroom</th>\n",
       "      <th>bath</th>\n",
       "      <th>Sq.ft</th>\n",
       "    </tr>\n",
       "  </thead>\n",
       "  <tbody>\n",
       "    <tr>\n",
       "      <th>0</th>\n",
       "      <td>1221 Harrison St #20</td>\n",
       "      <td>San Francisco</td>\n",
       "      <td>CA</td>\n",
       "      <td>94110</td>\n",
       "      <td>1035000.0</td>\n",
       "      <td>1</td>\n",
       "      <td>2.0</td>\n",
       "      <td>1439</td>\n",
       "    </tr>\n",
       "    <tr>\n",
       "      <th>2</th>\n",
       "      <td>1714 24th Ave</td>\n",
       "      <td>San Francisco</td>\n",
       "      <td>CA</td>\n",
       "      <td>94122</td>\n",
       "      <td>2099000.0</td>\n",
       "      <td>5</td>\n",
       "      <td>3.0</td>\n",
       "      <td>2304</td>\n",
       "    </tr>\n",
       "    <tr>\n",
       "      <th>3</th>\n",
       "      <td>1934 - 1936 19th Ave</td>\n",
       "      <td>San Francisco</td>\n",
       "      <td>CA</td>\n",
       "      <td>94116</td>\n",
       "      <td>1395000.0</td>\n",
       "      <td>4</td>\n",
       "      <td>3.0</td>\n",
       "      <td>2740</td>\n",
       "    </tr>\n",
       "    <tr>\n",
       "      <th>4</th>\n",
       "      <td>130 Wilson Ave</td>\n",
       "      <td>San Francisco</td>\n",
       "      <td>CA</td>\n",
       "      <td>94112</td>\n",
       "      <td>875000.0</td>\n",
       "      <td>4</td>\n",
       "      <td>3.0</td>\n",
       "      <td>1400</td>\n",
       "    </tr>\n",
       "    <tr>\n",
       "      <th>5</th>\n",
       "      <td>1200 Gough St Unit 5 C</td>\n",
       "      <td>San Francisco</td>\n",
       "      <td>CA</td>\n",
       "      <td>94109-6609</td>\n",
       "      <td>795000.0</td>\n",
       "      <td>1</td>\n",
       "      <td>1.0</td>\n",
       "      <td>840</td>\n",
       "    </tr>\n",
       "  </tbody>\n",
       "</table>\n",
       "</div>"
      ],
      "text/plain": [
       "                   street           city state     zipcode      price  \\\n",
       "0    1221 Harrison St #20  San Francisco    CA       94110  1035000.0   \n",
       "2           1714 24th Ave  San Francisco    CA       94122  2099000.0   \n",
       "3    1934 - 1936 19th Ave  San Francisco    CA       94116  1395000.0   \n",
       "4          130 Wilson Ave  San Francisco    CA       94112   875000.0   \n",
       "5  1200 Gough St Unit 5 C  San Francisco    CA  94109-6609   795000.0   \n",
       "\n",
       "   bedroom  bath  Sq.ft  \n",
       "0        1   2.0   1439  \n",
       "2        5   3.0   2304  \n",
       "3        4   3.0   2740  \n",
       "4        4   3.0   1400  \n",
       "5        1   1.0    840  "
      ]
     },
     "execution_count": 52,
     "metadata": {},
     "output_type": "execute_result"
    }
   ],
   "source": [
    "#create a list for numeric columns\n",
    "\n",
    "num_columns = ['price', 'bedroom', 'bath', 'Sq.ft']\n",
    "\n",
    "#defin a function find out the index of outliers row\n",
    "def outliers(df,column):\n",
    "    Q1=df[column].quantile(0.25)\n",
    "    Q3=df[column].quantile(0.75)\n",
    "    IQR = Q3-Q1\n",
    "    \n",
    "    lower_bound = Q1 -1.5 * IQR\n",
    "    upper_bound = Q3 +1.5 * IQR\n",
    "    \n",
    "    ls = df.index[(df[column]<lower_bound) | (df[column]>upper_bound)]\n",
    "    return ls\n",
    "\n",
    "#append all the outlier index to a list\n",
    "index_list=[]\n",
    "for column in num_columns:\n",
    "    index_list.extend(outliers(df,column))\n",
    "    \n",
    "#define a function to remove outliers\n",
    "def remove_outliers(df,ls):\n",
    "    ls = sorted(set(ls))\n",
    "    df = df.drop(ls)\n",
    "    return df\n",
    "#remove the outliers \n",
    "df = remove_outliers(df,index_list)\n",
    "df.head()"
   ]
  },
  {
   "cell_type": "code",
   "execution_count": 53,
   "metadata": {
    "ExecuteTime": {
     "end_time": "2023-04-28T04:56:31.556874Z",
     "start_time": "2023-04-28T04:56:31.538195Z"
    }
   },
   "outputs": [
    {
     "data": {
      "text/plain": [
       "(860, 8)"
      ]
     },
     "execution_count": 53,
     "metadata": {},
     "output_type": "execute_result"
    }
   ],
   "source": [
    "df.shape"
   ]
  },
  {
   "cell_type": "code",
   "execution_count": null,
   "metadata": {},
   "outputs": [],
   "source": [
    "#remove outliers\n",
    "# Q1 = df['price'].quantile(0.25)\n",
    "# Q3 = df['price'].quantile(0.75)\n",
    "# IQR = Q3 - Q1\n",
    "# df = df[(df['price'] > (Q1 - 1.5 * IQR)) & (df['price'] < (Q3 + 1.5 * IQR))]\n",
    "\n",
    "# Q1 = df['bedroom'].quantile(0.25)\n",
    "# Q3 = df['bedroom'].quantile(0.75)\n",
    "# IQR = Q3 - Q1\n",
    "# df = df[(df['bedroom'] > (Q1 - 1.5 * IQR)) & (df['bedroom'] < (Q3 + 1.5 * IQR))]\n",
    "# Q1 = df['bath'].quantile(0.25)\n",
    "# Q3 = df['bath'].quantile(0.75)\n",
    "# IQR = Q3 - Q1\n",
    "# df = df[(df['bath'] > (Q1 - 1.5 * IQR)) & (df['bath'] < (Q3 + 1.5 * IQR))]\n",
    "# Q1 = df['Sq.ft'].quantile(0.25)\n",
    "# Q3 = df['Sq.ft'].quantile(0.75)\n",
    "# IQR = Q3 - Q1\n",
    "# df = df[(df['Sq.ft'] > (Q1 - 1.5 * IQR)) & (df['Sq.ft'] < (Q3 + 1.5 * IQR))]\n",
    "# df.shape"
   ]
  },
  {
   "cell_type": "code",
   "execution_count": 54,
   "metadata": {
    "ExecuteTime": {
     "end_time": "2023-04-28T04:56:34.498712Z",
     "start_time": "2023-04-28T04:56:33.982112Z"
    }
   },
   "outputs": [
    {
     "data": {
      "image/png": "[encoded data removed]",
      "text/plain": [
       "<Figure size 1440x720 with 4 Axes>"
      ]
     },
     "metadata": {
      "needs_background": "light"
     },
     "output_type": "display_data"
    }
   ],
   "source": [
    "#Box plot after removing outliers\n",
    "fig, axes = plt.subplots(nrows=1, ncols=4, figsize=(20,10) )\n",
    "df.boxplot(column='price', ax=axes[0])\n",
    "df.boxplot(column='bedroom', ax=axes[1])\n",
    "df.boxplot(column='bath', ax=axes[2])\n",
    "df.boxplot(column='Sq.ft', ax=axes[3])\n",
    "plt.tight_layout()  # Increase the separation between the plots\n",
    "plt.show()"
   ]
  },
  {
   "cell_type": "code",
   "execution_count": 55,
   "metadata": {
    "ExecuteTime": {
     "end_time": "2023-04-28T04:56:36.718409Z",
     "start_time": "2023-04-28T04:56:36.692761Z"
    }
   },
   "outputs": [
    {
     "data": {
      "text/html": [
       "<div>\n",
       "<style scoped>\n",
       "    .dataframe tbody tr th:only-of-type {\n",
       "        vertical-align: middle;\n",
       "    }\n",
       "\n",
       "    .dataframe tbody tr th {\n",
       "        vertical-align: top;\n",
       "    }\n",
       "\n",
       "    .dataframe thead th {\n",
       "        text-align: right;\n",
       "    }\n",
       "</style>\n",
       "<table border=\"1\" class=\"dataframe\">\n",
       "  <thead>\n",
       "    <tr style=\"text-align: right;\">\n",
       "      <th></th>\n",
       "      <th>street</th>\n",
       "      <th>city</th>\n",
       "      <th>state</th>\n",
       "      <th>zipcode</th>\n",
       "      <th>price</th>\n",
       "      <th>bedroom</th>\n",
       "      <th>bath</th>\n",
       "      <th>Sq.ft</th>\n",
       "    </tr>\n",
       "  </thead>\n",
       "  <tbody>\n",
       "    <tr>\n",
       "      <th>0</th>\n",
       "      <td>1221 Harrison St #20</td>\n",
       "      <td>San Francisco</td>\n",
       "      <td>CA</td>\n",
       "      <td>94110</td>\n",
       "      <td>1035000.0</td>\n",
       "      <td>1</td>\n",
       "      <td>2.0</td>\n",
       "      <td>1439</td>\n",
       "    </tr>\n",
       "    <tr>\n",
       "      <th>2</th>\n",
       "      <td>1714 24th Ave</td>\n",
       "      <td>San Francisco</td>\n",
       "      <td>CA</td>\n",
       "      <td>94122</td>\n",
       "      <td>2099000.0</td>\n",
       "      <td>5</td>\n",
       "      <td>3.0</td>\n",
       "      <td>2304</td>\n",
       "    </tr>\n",
       "    <tr>\n",
       "      <th>3</th>\n",
       "      <td>1934 - 1936 19th Ave</td>\n",
       "      <td>San Francisco</td>\n",
       "      <td>CA</td>\n",
       "      <td>94116</td>\n",
       "      <td>1395000.0</td>\n",
       "      <td>4</td>\n",
       "      <td>3.0</td>\n",
       "      <td>2740</td>\n",
       "    </tr>\n",
       "    <tr>\n",
       "      <th>4</th>\n",
       "      <td>130 Wilson Ave</td>\n",
       "      <td>San Francisco</td>\n",
       "      <td>CA</td>\n",
       "      <td>94112</td>\n",
       "      <td>875000.0</td>\n",
       "      <td>4</td>\n",
       "      <td>3.0</td>\n",
       "      <td>1400</td>\n",
       "    </tr>\n",
       "    <tr>\n",
       "      <th>5</th>\n",
       "      <td>1200 Gough St Unit 5 C</td>\n",
       "      <td>San Francisco</td>\n",
       "      <td>CA</td>\n",
       "      <td>94109-6609</td>\n",
       "      <td>795000.0</td>\n",
       "      <td>1</td>\n",
       "      <td>1.0</td>\n",
       "      <td>840</td>\n",
       "    </tr>\n",
       "  </tbody>\n",
       "</table>\n",
       "</div>"
      ],
      "text/plain": [
       "                   street           city state     zipcode      price  \\\n",
       "0    1221 Harrison St #20  San Francisco    CA       94110  1035000.0   \n",
       "2           1714 24th Ave  San Francisco    CA       94122  2099000.0   \n",
       "3    1934 - 1936 19th Ave  San Francisco    CA       94116  1395000.0   \n",
       "4          130 Wilson Ave  San Francisco    CA       94112   875000.0   \n",
       "5  1200 Gough St Unit 5 C  San Francisco    CA  94109-6609   795000.0   \n",
       "\n",
       "   bedroom  bath  Sq.ft  \n",
       "0        1   2.0   1439  \n",
       "2        5   3.0   2304  \n",
       "3        4   3.0   2740  \n",
       "4        4   3.0   1400  \n",
       "5        1   1.0    840  "
      ]
     },
     "execution_count": 55,
     "metadata": {},
     "output_type": "execute_result"
    }
   ],
   "source": [
    "df.head()"
   ]
  },
  {
   "cell_type": "code",
   "execution_count": 56,
   "metadata": {
    "ExecuteTime": {
     "end_time": "2023-04-28T04:56:38.043457Z",
     "start_time": "2023-04-28T04:56:38.009805Z"
    }
   },
   "outputs": [
    {
     "data": {
      "text/html": [
       "<div>\n",
       "<style scoped>\n",
       "    .dataframe tbody tr th:only-of-type {\n",
       "        vertical-align: middle;\n",
       "    }\n",
       "\n",
       "    .dataframe tbody tr th {\n",
       "        vertical-align: top;\n",
       "    }\n",
       "\n",
       "    .dataframe thead th {\n",
       "        text-align: right;\n",
       "    }\n",
       "</style>\n",
       "<table border=\"1\" class=\"dataframe\">\n",
       "  <thead>\n",
       "    <tr style=\"text-align: right;\">\n",
       "      <th></th>\n",
       "      <th>street</th>\n",
       "      <th>city</th>\n",
       "      <th>state</th>\n",
       "      <th>zipcode</th>\n",
       "      <th>price</th>\n",
       "      <th>bedroom</th>\n",
       "      <th>bath</th>\n",
       "      <th>Sq.ft</th>\n",
       "      <th>price per Sq.Ft</th>\n",
       "    </tr>\n",
       "  </thead>\n",
       "  <tbody>\n",
       "    <tr>\n",
       "      <th>0</th>\n",
       "      <td>1221 Harrison St #20</td>\n",
       "      <td>San Francisco</td>\n",
       "      <td>CA</td>\n",
       "      <td>94110</td>\n",
       "      <td>1035000.0</td>\n",
       "      <td>1</td>\n",
       "      <td>2.0</td>\n",
       "      <td>1439</td>\n",
       "      <td>719.249</td>\n",
       "    </tr>\n",
       "    <tr>\n",
       "      <th>2</th>\n",
       "      <td>1714 24th Ave</td>\n",
       "      <td>San Francisco</td>\n",
       "      <td>CA</td>\n",
       "      <td>94122</td>\n",
       "      <td>2099000.0</td>\n",
       "      <td>5</td>\n",
       "      <td>3.0</td>\n",
       "      <td>2304</td>\n",
       "      <td>911.024</td>\n",
       "    </tr>\n",
       "    <tr>\n",
       "      <th>3</th>\n",
       "      <td>1934 - 1936 19th Ave</td>\n",
       "      <td>San Francisco</td>\n",
       "      <td>CA</td>\n",
       "      <td>94116</td>\n",
       "      <td>1395000.0</td>\n",
       "      <td>4</td>\n",
       "      <td>3.0</td>\n",
       "      <td>2740</td>\n",
       "      <td>509.124</td>\n",
       "    </tr>\n",
       "    <tr>\n",
       "      <th>4</th>\n",
       "      <td>130 Wilson Ave</td>\n",
       "      <td>San Francisco</td>\n",
       "      <td>CA</td>\n",
       "      <td>94112</td>\n",
       "      <td>875000.0</td>\n",
       "      <td>4</td>\n",
       "      <td>3.0</td>\n",
       "      <td>1400</td>\n",
       "      <td>625.000</td>\n",
       "    </tr>\n",
       "    <tr>\n",
       "      <th>5</th>\n",
       "      <td>1200 Gough St Unit 5 C</td>\n",
       "      <td>San Francisco</td>\n",
       "      <td>CA</td>\n",
       "      <td>94109-6609</td>\n",
       "      <td>795000.0</td>\n",
       "      <td>1</td>\n",
       "      <td>1.0</td>\n",
       "      <td>840</td>\n",
       "      <td>946.429</td>\n",
       "    </tr>\n",
       "  </tbody>\n",
       "</table>\n",
       "</div>"
      ],
      "text/plain": [
       "                   street           city state     zipcode      price  \\\n",
       "0    1221 Harrison St #20  San Francisco    CA       94110  1035000.0   \n",
       "2           1714 24th Ave  San Francisco    CA       94122  2099000.0   \n",
       "3    1934 - 1936 19th Ave  San Francisco    CA       94116  1395000.0   \n",
       "4          130 Wilson Ave  San Francisco    CA       94112   875000.0   \n",
       "5  1200 Gough St Unit 5 C  San Francisco    CA  94109-6609   795000.0   \n",
       "\n",
       "   bedroom  bath  Sq.ft  price per Sq.Ft  \n",
       "0        1   2.0   1439          719.249  \n",
       "2        5   3.0   2304          911.024  \n",
       "3        4   3.0   2740          509.124  \n",
       "4        4   3.0   1400          625.000  \n",
       "5        1   1.0    840          946.429  "
      ]
     },
     "execution_count": 56,
     "metadata": {},
     "output_type": "execute_result"
    }
   ],
   "source": [
    "df['price per Sq.Ft'] = (df['price']/df['Sq.ft']).round(3)\n",
    "df.head()"
   ]
  },
  {
   "cell_type": "code",
   "execution_count": 31,
   "metadata": {
    "ExecuteTime": {
     "end_time": "2023-04-28T04:28:48.466999Z",
     "start_time": "2023-04-28T04:28:48.434065Z"
    }
   },
   "outputs": [
    {
     "data": {
      "text/html": [
       "<div>\n",
       "<style scoped>\n",
       "    .dataframe tbody tr th:only-of-type {\n",
       "        vertical-align: middle;\n",
       "    }\n",
       "\n",
       "    .dataframe tbody tr th {\n",
       "        vertical-align: top;\n",
       "    }\n",
       "\n",
       "    .dataframe thead th {\n",
       "        text-align: right;\n",
       "    }\n",
       "</style>\n",
       "<table border=\"1\" class=\"dataframe\">\n",
       "  <thead>\n",
       "    <tr style=\"text-align: right;\">\n",
       "      <th></th>\n",
       "      <th>street</th>\n",
       "      <th>city</th>\n",
       "      <th>state</th>\n",
       "      <th>zipcode</th>\n",
       "      <th>price</th>\n",
       "      <th>bedroom</th>\n",
       "      <th>bath</th>\n",
       "      <th>Sq.ft</th>\n",
       "      <th>price per Sq.Ft</th>\n",
       "      <th>house_size</th>\n",
       "    </tr>\n",
       "  </thead>\n",
       "  <tbody>\n",
       "    <tr>\n",
       "      <th>0</th>\n",
       "      <td>1221 Harrison St #20</td>\n",
       "      <td>San Francisco</td>\n",
       "      <td>CA</td>\n",
       "      <td>94110</td>\n",
       "      <td>1035000.0</td>\n",
       "      <td>1</td>\n",
       "      <td>2.0</td>\n",
       "      <td>1439</td>\n",
       "      <td>719.249</td>\n",
       "      <td>small</td>\n",
       "    </tr>\n",
       "    <tr>\n",
       "      <th>2</th>\n",
       "      <td>1714 24th Ave</td>\n",
       "      <td>San Francisco</td>\n",
       "      <td>CA</td>\n",
       "      <td>94122</td>\n",
       "      <td>2099000.0</td>\n",
       "      <td>5</td>\n",
       "      <td>3.0</td>\n",
       "      <td>2304</td>\n",
       "      <td>911.024</td>\n",
       "      <td>medium</td>\n",
       "    </tr>\n",
       "    <tr>\n",
       "      <th>3</th>\n",
       "      <td>1934 - 1936 19th Ave</td>\n",
       "      <td>San Francisco</td>\n",
       "      <td>CA</td>\n",
       "      <td>94116</td>\n",
       "      <td>1395000.0</td>\n",
       "      <td>4</td>\n",
       "      <td>3.0</td>\n",
       "      <td>2740</td>\n",
       "      <td>509.124</td>\n",
       "      <td>large</td>\n",
       "    </tr>\n",
       "    <tr>\n",
       "      <th>4</th>\n",
       "      <td>130 Wilson Ave</td>\n",
       "      <td>San Francisco</td>\n",
       "      <td>CA</td>\n",
       "      <td>94112</td>\n",
       "      <td>875000.0</td>\n",
       "      <td>4</td>\n",
       "      <td>3.0</td>\n",
       "      <td>1400</td>\n",
       "      <td>625.000</td>\n",
       "      <td>small</td>\n",
       "    </tr>\n",
       "    <tr>\n",
       "      <th>5</th>\n",
       "      <td>1200 Gough St Unit 5 C</td>\n",
       "      <td>San Francisco</td>\n",
       "      <td>CA</td>\n",
       "      <td>94109-6609</td>\n",
       "      <td>795000.0</td>\n",
       "      <td>1</td>\n",
       "      <td>1.0</td>\n",
       "      <td>840</td>\n",
       "      <td>946.429</td>\n",
       "      <td>small</td>\n",
       "    </tr>\n",
       "  </tbody>\n",
       "</table>\n",
       "</div>"
      ],
      "text/plain": [
       "                   street           city state     zipcode      price  \\\n",
       "0    1221 Harrison St #20  San Francisco    CA       94110  1035000.0   \n",
       "2           1714 24th Ave  San Francisco    CA       94122  2099000.0   \n",
       "3    1934 - 1936 19th Ave  San Francisco    CA       94116  1395000.0   \n",
       "4          130 Wilson Ave  San Francisco    CA       94112   875000.0   \n",
       "5  1200 Gough St Unit 5 C  San Francisco    CA  94109-6609   795000.0   \n",
       "\n",
       "   bedroom  bath  Sq.ft  price per Sq.Ft house_size  \n",
       "0        1   2.0   1439          719.249      small  \n",
       "2        5   3.0   2304          911.024     medium  \n",
       "3        4   3.0   2740          509.124      large  \n",
       "4        4   3.0   1400          625.000      small  \n",
       "5        1   1.0    840          946.429      small  "
      ]
     },
     "execution_count": 31,
     "metadata": {},
     "output_type": "execute_result"
    }
   ],
   "source": [
    "# Define a function to categorize houses based on square footage\n",
    "def house_size(sqft):\n",
    "    if sqft < 1500:\n",
    "        return 'small'\n",
    "    elif 1500 <= sqft < 2500:\n",
    "        return 'medium'\n",
    "    else:\n",
    "        return 'large'\n",
    "\n",
    "# Add a new column to the DataFrame using the house_size function\n",
    "df['house_size'] = df['Sq.ft'].apply(house_size)\n",
    "\n",
    "df.head(5)"
   ]
  },
  {
   "cell_type": "code",
   "execution_count": 57,
   "metadata": {
    "ExecuteTime": {
     "end_time": "2023-04-28T04:56:43.322918Z",
     "start_time": "2023-04-28T04:56:43.289404Z"
    }
   },
   "outputs": [
    {
     "data": {
      "text/html": [
       "<div>\n",
       "<style scoped>\n",
       "    .dataframe tbody tr th:only-of-type {\n",
       "        vertical-align: middle;\n",
       "    }\n",
       "\n",
       "    .dataframe tbody tr th {\n",
       "        vertical-align: top;\n",
       "    }\n",
       "\n",
       "    .dataframe thead th {\n",
       "        text-align: right;\n",
       "    }\n",
       "</style>\n",
       "<table border=\"1\" class=\"dataframe\">\n",
       "  <thead>\n",
       "    <tr style=\"text-align: right;\">\n",
       "      <th></th>\n",
       "      <th>street</th>\n",
       "      <th>city</th>\n",
       "      <th>state</th>\n",
       "      <th>zipcode</th>\n",
       "      <th>price</th>\n",
       "      <th>bedroom</th>\n",
       "      <th>bath</th>\n",
       "      <th>Sq.ft</th>\n",
       "      <th>price per Sq.Ft</th>\n",
       "      <th>bed_bath_ratio</th>\n",
       "      <th>bedroom_percentage</th>\n",
       "      <th>bathrooms_per_1000_sqft</th>\n",
       "      <th>bedrooms_per_1000_sqft</th>\n",
       "    </tr>\n",
       "  </thead>\n",
       "  <tbody>\n",
       "    <tr>\n",
       "      <th>0</th>\n",
       "      <td>1221 Harrison St #20</td>\n",
       "      <td>San Francisco</td>\n",
       "      <td>CA</td>\n",
       "      <td>94110</td>\n",
       "      <td>1035000.0</td>\n",
       "      <td>1</td>\n",
       "      <td>2.0</td>\n",
       "      <td>1439</td>\n",
       "      <td>719.249</td>\n",
       "      <td>0.500</td>\n",
       "      <td>0.069</td>\n",
       "      <td>1.390</td>\n",
       "      <td>0.695</td>\n",
       "    </tr>\n",
       "    <tr>\n",
       "      <th>2</th>\n",
       "      <td>1714 24th Ave</td>\n",
       "      <td>San Francisco</td>\n",
       "      <td>CA</td>\n",
       "      <td>94122</td>\n",
       "      <td>2099000.0</td>\n",
       "      <td>5</td>\n",
       "      <td>3.0</td>\n",
       "      <td>2304</td>\n",
       "      <td>911.024</td>\n",
       "      <td>1.667</td>\n",
       "      <td>0.217</td>\n",
       "      <td>1.302</td>\n",
       "      <td>2.170</td>\n",
       "    </tr>\n",
       "    <tr>\n",
       "      <th>3</th>\n",
       "      <td>1934 - 1936 19th Ave</td>\n",
       "      <td>San Francisco</td>\n",
       "      <td>CA</td>\n",
       "      <td>94116</td>\n",
       "      <td>1395000.0</td>\n",
       "      <td>4</td>\n",
       "      <td>3.0</td>\n",
       "      <td>2740</td>\n",
       "      <td>509.124</td>\n",
       "      <td>1.333</td>\n",
       "      <td>0.146</td>\n",
       "      <td>1.095</td>\n",
       "      <td>1.460</td>\n",
       "    </tr>\n",
       "    <tr>\n",
       "      <th>4</th>\n",
       "      <td>130 Wilson Ave</td>\n",
       "      <td>San Francisco</td>\n",
       "      <td>CA</td>\n",
       "      <td>94112</td>\n",
       "      <td>875000.0</td>\n",
       "      <td>4</td>\n",
       "      <td>3.0</td>\n",
       "      <td>1400</td>\n",
       "      <td>625.000</td>\n",
       "      <td>1.333</td>\n",
       "      <td>0.286</td>\n",
       "      <td>2.143</td>\n",
       "      <td>2.857</td>\n",
       "    </tr>\n",
       "    <tr>\n",
       "      <th>5</th>\n",
       "      <td>1200 Gough St Unit 5 C</td>\n",
       "      <td>San Francisco</td>\n",
       "      <td>CA</td>\n",
       "      <td>94109-6609</td>\n",
       "      <td>795000.0</td>\n",
       "      <td>1</td>\n",
       "      <td>1.0</td>\n",
       "      <td>840</td>\n",
       "      <td>946.429</td>\n",
       "      <td>1.000</td>\n",
       "      <td>0.119</td>\n",
       "      <td>1.190</td>\n",
       "      <td>1.190</td>\n",
       "    </tr>\n",
       "  </tbody>\n",
       "</table>\n",
       "</div>"
      ],
      "text/plain": [
       "                   street           city state     zipcode      price  \\\n",
       "0    1221 Harrison St #20  San Francisco    CA       94110  1035000.0   \n",
       "2           1714 24th Ave  San Francisco    CA       94122  2099000.0   \n",
       "3    1934 - 1936 19th Ave  San Francisco    CA       94116  1395000.0   \n",
       "4          130 Wilson Ave  San Francisco    CA       94112   875000.0   \n",
       "5  1200 Gough St Unit 5 C  San Francisco    CA  94109-6609   795000.0   \n",
       "\n",
       "   bedroom  bath  Sq.ft  price per Sq.Ft  bed_bath_ratio  bedroom_percentage  \\\n",
       "0        1   2.0   1439          719.249           0.500               0.069   \n",
       "2        5   3.0   2304          911.024           1.667               0.217   \n",
       "3        4   3.0   2740          509.124           1.333               0.146   \n",
       "4        4   3.0   1400          625.000           1.333               0.286   \n",
       "5        1   1.0    840          946.429           1.000               0.119   \n",
       "\n",
       "   bathrooms_per_1000_sqft  bedrooms_per_1000_sqft  \n",
       "0                    1.390                   0.695  \n",
       "2                    1.302                   2.170  \n",
       "3                    1.095                   1.460  \n",
       "4                    2.143                   2.857  \n",
       "5                    1.190                   1.190  "
      ]
     },
     "execution_count": 57,
     "metadata": {},
     "output_type": "execute_result"
    }
   ],
   "source": [
    "df['bed_bath_ratio'] = (df['bedroom'] / df['bath']).round(3)\n",
    "df['bedroom_percentage'] = ((df['bedroom'] * 100) / df['Sq.ft']).round(3)\n",
    "df['bathrooms_per_1000_sqft'] = (df['bath'] / (df['Sq.ft'] / 1000)).round(3)\n",
    "df['bedrooms_per_1000_sqft'] = (df['bedroom'] / (df['Sq.ft'] / 1000)).round(3)\n",
    "df.head(5)"
   ]
  },
  {
   "cell_type": "markdown",
   "metadata": {},
   "source": [
    "https://www.noradarealestate.com/blog/san-francisco-real-estate-market/\n",
    "we found bay area median price from this website. current medium house price in bay area are $1,050,000."
   ]
  },
  {
   "cell_type": "code",
   "execution_count": 58,
   "metadata": {
    "ExecuteTime": {
     "end_time": "2023-04-28T04:57:04.290038Z",
     "start_time": "2023-04-28T04:57:04.261801Z"
    }
   },
   "outputs": [
    {
     "data": {
      "text/html": [
       "<div>\n",
       "<style scoped>\n",
       "    .dataframe tbody tr th:only-of-type {\n",
       "        vertical-align: middle;\n",
       "    }\n",
       "\n",
       "    .dataframe tbody tr th {\n",
       "        vertical-align: top;\n",
       "    }\n",
       "\n",
       "    .dataframe thead th {\n",
       "        text-align: right;\n",
       "    }\n",
       "</style>\n",
       "<table border=\"1\" class=\"dataframe\">\n",
       "  <thead>\n",
       "    <tr style=\"text-align: right;\">\n",
       "      <th></th>\n",
       "      <th>street</th>\n",
       "      <th>city</th>\n",
       "      <th>state</th>\n",
       "      <th>zipcode</th>\n",
       "      <th>price</th>\n",
       "      <th>bedroom</th>\n",
       "      <th>bath</th>\n",
       "      <th>Sq.ft</th>\n",
       "      <th>price per Sq.Ft</th>\n",
       "      <th>bed_bath_ratio</th>\n",
       "      <th>bedroom_percentage</th>\n",
       "      <th>bathrooms_per_1000_sqft</th>\n",
       "      <th>bedrooms_per_1000_sqft</th>\n",
       "      <th>price_comparison</th>\n",
       "    </tr>\n",
       "  </thead>\n",
       "  <tbody>\n",
       "    <tr>\n",
       "      <th>0</th>\n",
       "      <td>1221 Harrison St #20</td>\n",
       "      <td>San Francisco</td>\n",
       "      <td>CA</td>\n",
       "      <td>94110</td>\n",
       "      <td>1035000.0</td>\n",
       "      <td>1</td>\n",
       "      <td>2.0</td>\n",
       "      <td>1439</td>\n",
       "      <td>719.249</td>\n",
       "      <td>0.500</td>\n",
       "      <td>0.069</td>\n",
       "      <td>1.390</td>\n",
       "      <td>0.695</td>\n",
       "      <td>lower</td>\n",
       "    </tr>\n",
       "    <tr>\n",
       "      <th>2</th>\n",
       "      <td>1714 24th Ave</td>\n",
       "      <td>San Francisco</td>\n",
       "      <td>CA</td>\n",
       "      <td>94122</td>\n",
       "      <td>2099000.0</td>\n",
       "      <td>5</td>\n",
       "      <td>3.0</td>\n",
       "      <td>2304</td>\n",
       "      <td>911.024</td>\n",
       "      <td>1.667</td>\n",
       "      <td>0.217</td>\n",
       "      <td>1.302</td>\n",
       "      <td>2.170</td>\n",
       "      <td>higher</td>\n",
       "    </tr>\n",
       "    <tr>\n",
       "      <th>3</th>\n",
       "      <td>1934 - 1936 19th Ave</td>\n",
       "      <td>San Francisco</td>\n",
       "      <td>CA</td>\n",
       "      <td>94116</td>\n",
       "      <td>1395000.0</td>\n",
       "      <td>4</td>\n",
       "      <td>3.0</td>\n",
       "      <td>2740</td>\n",
       "      <td>509.124</td>\n",
       "      <td>1.333</td>\n",
       "      <td>0.146</td>\n",
       "      <td>1.095</td>\n",
       "      <td>1.460</td>\n",
       "      <td>higher</td>\n",
       "    </tr>\n",
       "    <tr>\n",
       "      <th>4</th>\n",
       "      <td>130 Wilson Ave</td>\n",
       "      <td>San Francisco</td>\n",
       "      <td>CA</td>\n",
       "      <td>94112</td>\n",
       "      <td>875000.0</td>\n",
       "      <td>4</td>\n",
       "      <td>3.0</td>\n",
       "      <td>1400</td>\n",
       "      <td>625.000</td>\n",
       "      <td>1.333</td>\n",
       "      <td>0.286</td>\n",
       "      <td>2.143</td>\n",
       "      <td>2.857</td>\n",
       "      <td>lower</td>\n",
       "    </tr>\n",
       "    <tr>\n",
       "      <th>5</th>\n",
       "      <td>1200 Gough St Unit 5 C</td>\n",
       "      <td>San Francisco</td>\n",
       "      <td>CA</td>\n",
       "      <td>94109-6609</td>\n",
       "      <td>795000.0</td>\n",
       "      <td>1</td>\n",
       "      <td>1.0</td>\n",
       "      <td>840</td>\n",
       "      <td>946.429</td>\n",
       "      <td>1.000</td>\n",
       "      <td>0.119</td>\n",
       "      <td>1.190</td>\n",
       "      <td>1.190</td>\n",
       "      <td>lower</td>\n",
       "    </tr>\n",
       "  </tbody>\n",
       "</table>\n",
       "</div>"
      ],
      "text/plain": [
       "                   street           city state     zipcode      price  \\\n",
       "0    1221 Harrison St #20  San Francisco    CA       94110  1035000.0   \n",
       "2           1714 24th Ave  San Francisco    CA       94122  2099000.0   \n",
       "3    1934 - 1936 19th Ave  San Francisco    CA       94116  1395000.0   \n",
       "4          130 Wilson Ave  San Francisco    CA       94112   875000.0   \n",
       "5  1200 Gough St Unit 5 C  San Francisco    CA  94109-6609   795000.0   \n",
       "\n",
       "   bedroom  bath  Sq.ft  price per Sq.Ft  bed_bath_ratio  bedroom_percentage  \\\n",
       "0        1   2.0   1439          719.249           0.500               0.069   \n",
       "2        5   3.0   2304          911.024           1.667               0.217   \n",
       "3        4   3.0   2740          509.124           1.333               0.146   \n",
       "4        4   3.0   1400          625.000           1.333               0.286   \n",
       "5        1   1.0    840          946.429           1.000               0.119   \n",
       "\n",
       "   bathrooms_per_1000_sqft  bedrooms_per_1000_sqft price_comparison  \n",
       "0                    1.390                   0.695            lower  \n",
       "2                    1.302                   2.170           higher  \n",
       "3                    1.095                   1.460           higher  \n",
       "4                    2.143                   2.857            lower  \n",
       "5                    1.190                   1.190            lower  "
      ]
     },
     "execution_count": 58,
     "metadata": {},
     "output_type": "execute_result"
    }
   ],
   "source": [
    "# Calculate median price\n",
    "median_price = 1050000\n",
    "\n",
    "# Create new column 'price_comparison'\n",
    "df['price_comparison'] = df['price'].apply(lambda x: 'higher' if x > median_price else 'lower' if x < median_price else 'equal')\n",
    "df.head(5)"
   ]
  },
  {
   "cell_type": "code",
   "execution_count": 59,
   "metadata": {
    "ExecuteTime": {
     "end_time": "2023-04-28T04:57:55.057866Z",
     "start_time": "2023-04-28T04:57:55.001437Z"
    }
   },
   "outputs": [],
   "source": [
    "#convert to csv file\n",
    "df.to_csv('cleaned_redfinhouse.csv')"
   ]
  },
  {
   "cell_type": "code",
   "execution_count": null,
   "metadata": {},
   "outputs": [],
   "source": []
  }
 ],
 "metadata": {
  "kernelspec": {
   "display_name": "Python 3 (ipykernel)",
   "language": "python",
   "name": "python3"
  },
  "language_info": {
   "codemirror_mode": {
    "name": "ipython",
    "version": 3
   },
   "file_extension": ".py",
   "mimetype": "text/x-python",
   "name": "python",
   "nbconvert_exporter": "python",
   "pygments_lexer": "ipython3",
   "version": "3.9.12"
  }
 },
 "nbformat": 4,
 "nbformat_minor": 4
}
